{
  "cells": [
    {
      "cell_type": "code",
      "execution_count": 2,
      "id": "02bef47c",
      "metadata": {
        "colab": {
          "base_uri": "https://localhost:8080/"
        },
        "id": "02bef47c",
        "outputId": "8c9cafc9-cfff-44ac-b6d0-1722287b9b2c"
      },
      "outputs": [
        {
          "output_type": "stream",
          "name": "stdout",
          "text": [
            "Looking in indexes: https://pypi.org/simple, https://us-python.pkg.dev/colab-wheels/public/simple/\n",
            "Requirement already satisfied: pandas in /usr/local/lib/python3.8/dist-packages (1.3.5)\n",
            "Requirement already satisfied: pytz>=2017.3 in /usr/local/lib/python3.8/dist-packages (from pandas) (2022.7.1)\n",
            "Requirement already satisfied: numpy>=1.17.3 in /usr/local/lib/python3.8/dist-packages (from pandas) (1.21.6)\n",
            "Requirement already satisfied: python-dateutil>=2.7.3 in /usr/local/lib/python3.8/dist-packages (from pandas) (2.8.2)\n",
            "Requirement already satisfied: six>=1.5 in /usr/local/lib/python3.8/dist-packages (from python-dateutil>=2.7.3->pandas) (1.15.0)\n",
            "Looking in indexes: https://pypi.org/simple, https://us-python.pkg.dev/colab-wheels/public/simple/\n",
            "Requirement already satisfied: scikit-learn in /usr/local/lib/python3.8/dist-packages (1.0.2)\n",
            "Collecting scikit-learn\n",
            "  Downloading scikit_learn-1.2.1-cp38-cp38-manylinux_2_17_x86_64.manylinux2014_x86_64.whl (9.8 MB)\n",
            "\u001b[2K     \u001b[90m━━━━━━━━━━━━━━━━━━━━━━━━━━━━━━━━━━━━━━━━\u001b[0m \u001b[32m9.8/9.8 MB\u001b[0m \u001b[31m77.7 MB/s\u001b[0m eta \u001b[36m0:00:00\u001b[0m\n",
            "\u001b[?25hRequirement already satisfied: scipy>=1.3.2 in /usr/local/lib/python3.8/dist-packages (from scikit-learn) (1.7.3)\n",
            "Requirement already satisfied: threadpoolctl>=2.0.0 in /usr/local/lib/python3.8/dist-packages (from scikit-learn) (3.1.0)\n",
            "Requirement already satisfied: joblib>=1.1.1 in /usr/local/lib/python3.8/dist-packages (from scikit-learn) (1.2.0)\n",
            "Requirement already satisfied: numpy>=1.17.3 in /usr/local/lib/python3.8/dist-packages (from scikit-learn) (1.21.6)\n",
            "Installing collected packages: scikit-learn\n",
            "  Attempting uninstall: scikit-learn\n",
            "    Found existing installation: scikit-learn 1.0.2\n",
            "    Uninstalling scikit-learn-1.0.2:\n",
            "      Successfully uninstalled scikit-learn-1.0.2\n",
            "Successfully installed scikit-learn-1.2.1\n",
            "Looking in indexes: https://pypi.org/simple, https://us-python.pkg.dev/colab-wheels/public/simple/\n",
            "Requirement already satisfied: nltk in /usr/local/lib/python3.8/dist-packages (3.7)\n",
            "Requirement already satisfied: joblib in /usr/local/lib/python3.8/dist-packages (from nltk) (1.2.0)\n",
            "Requirement already satisfied: regex>=2021.8.3 in /usr/local/lib/python3.8/dist-packages (from nltk) (2022.6.2)\n",
            "Requirement already satisfied: click in /usr/local/lib/python3.8/dist-packages (from nltk) (7.1.2)\n",
            "Requirement already satisfied: tqdm in /usr/local/lib/python3.8/dist-packages (from nltk) (4.64.1)\n",
            "Looking in indexes: https://pypi.org/simple, https://us-python.pkg.dev/colab-wheels/public/simple/\n",
            "Collecting pymorphy2\n",
            "  Downloading pymorphy2-0.9.1-py3-none-any.whl (55 kB)\n",
            "\u001b[2K     \u001b[90m━━━━━━━━━━━━━━━━━━━━━━━━━━━━━━━━━━━━━━━━\u001b[0m \u001b[32m55.5/55.5 KB\u001b[0m \u001b[31m5.4 MB/s\u001b[0m eta \u001b[36m0:00:00\u001b[0m\n",
            "\u001b[?25hCollecting dawg-python>=0.7.1\n",
            "  Downloading DAWG_Python-0.7.2-py2.py3-none-any.whl (11 kB)\n",
            "Collecting pymorphy2-dicts-ru<3.0,>=2.4\n",
            "  Downloading pymorphy2_dicts_ru-2.4.417127.4579844-py2.py3-none-any.whl (8.2 MB)\n",
            "\u001b[2K     \u001b[90m━━━━━━━━━━━━━━━━━━━━━━━━━━━━━━━━━━━━━━━━\u001b[0m \u001b[32m8.2/8.2 MB\u001b[0m \u001b[31m84.3 MB/s\u001b[0m eta \u001b[36m0:00:00\u001b[0m\n",
            "\u001b[?25hCollecting docopt>=0.6\n",
            "  Downloading docopt-0.6.2.tar.gz (25 kB)\n",
            "  Preparing metadata (setup.py) ... \u001b[?25l\u001b[?25hdone\n",
            "Building wheels for collected packages: docopt\n",
            "  Building wheel for docopt (setup.py) ... \u001b[?25l\u001b[?25hdone\n",
            "  Created wheel for docopt: filename=docopt-0.6.2-py2.py3-none-any.whl size=13723 sha256=0713cd464244fda6877b6c317db694d6325f779d6ff9fabcc31e56e02283a44c\n",
            "  Stored in directory: /root/.cache/pip/wheels/56/ea/58/ead137b087d9e326852a851351d1debf4ada529b6ac0ec4e8c\n",
            "Successfully built docopt\n",
            "Installing collected packages: pymorphy2-dicts-ru, docopt, dawg-python, pymorphy2\n",
            "Successfully installed dawg-python-0.7.2 docopt-0.6.2 pymorphy2-0.9.1 pymorphy2-dicts-ru-2.4.417127.4579844\n"
          ]
        }
      ],
      "source": [
        "!pip install pandas\n",
        "!pip install -U scikit-learn\n",
        "!pip install nltk\n",
        "!pip install pymorphy2"
      ]
    },
    {
      "cell_type": "code",
      "execution_count": 3,
      "id": "7be607b7",
      "metadata": {
        "id": "7be607b7"
      },
      "outputs": [],
      "source": [
        "import pandas as pd\n",
        "import os\n",
        "\n",
        "from pymorphy2 import MorphAnalyzer\n",
        "import nltk\n",
        "from nltk.tokenize import word_tokenize, wordpunct_tokenize\n",
        "from nltk import download\n",
        "from nltk.corpus import stopwords\n",
        "\n",
        "from sklearn.feature_extraction.text import TfidfVectorizer\n",
        "import sklearn\n",
        "import numpy as np\n",
        "\n",
        "from math import log\n",
        "from collections import Counter\n",
        "\n",
        "import json\n"
      ]
    },
    {
      "cell_type": "code",
      "execution_count": 4,
      "id": "82b9bd55",
      "metadata": {
        "colab": {
          "base_uri": "https://localhost:8080/"
        },
        "id": "82b9bd55",
        "outputId": "b8f181eb-3b37-4c3c-9efa-2df1ab4289d1"
      },
      "outputs": [
        {
          "output_type": "stream",
          "name": "stdout",
          "text": [
            "1.2.1\n"
          ]
        }
      ],
      "source": [
        "print(sklearn.__version__)"
      ]
    },
    {
      "cell_type": "code",
      "execution_count": 5,
      "id": "28c5e65a",
      "metadata": {
        "colab": {
          "base_uri": "https://localhost:8080/"
        },
        "id": "28c5e65a",
        "outputId": "fd8771b7-a8b0-4c18-934f-1c049c712407"
      },
      "outputs": [
        {
          "output_type": "stream",
          "name": "stderr",
          "text": [
            "[nltk_data] Downloading package punkt to /root/nltk_data...\n",
            "[nltk_data]   Unzipping tokenizers/punkt.zip.\n",
            "[nltk_data] Downloading package stopwords to /root/nltk_data...\n",
            "[nltk_data]   Unzipping corpora/stopwords.zip.\n"
          ]
        },
        {
          "output_type": "execute_result",
          "data": {
            "text/plain": [
              "True"
            ]
          },
          "metadata": {},
          "execution_count": 5
        }
      ],
      "source": [
        "# Запускать только в первый раз, чтобы скачать\n",
        "download('punkt')\n",
        "download('stopwords')"
      ]
    },
    {
      "cell_type": "code",
      "execution_count": 6,
      "id": "ead8574f",
      "metadata": {
        "id": "ead8574f"
      },
      "outputs": [],
      "source": [
        "from itertools import count\n",
        "i = count()\n",
        "\n",
        "def lemmatize(a_text):\n",
        "    try:\n",
        "        print(next(i))\n",
        "        a_tokens = wordpunct_tokenize(a_text)\n",
        "        a_lemmatized = [morph.parse(item)[0].normal_form for item in a_tokens]\n",
        "        a_lemmatized = ' '.join([token for token in a_lemmatized if token.isalpha()])\n",
        "        return a_lemmatized\n",
        "    except Exception as e:\n",
        "        return ''\n",
        "\n",
        "\n",
        "def get_top_tf_idf_words(tfidf_vector, feature_names, top_n):\n",
        "    sorted_nzs = np.argsort(tfidf_vector.data)[:-(top_n+1):-1]\n",
        "    return feature_names[tfidf_vector.indices[sorted_nzs]]\n",
        "\n",
        "\n",
        "def add_best_words(row):\n",
        "    i = row.name\n",
        "    article_vector = articles_tfidf[i, :]\n",
        "    words = get_top_tf_idf_words(article_vector, feature_names, 10)\n",
        "    return words\n",
        "\n",
        "\n",
        "def enumerate_words(lists_of_keywords):\n",
        "    i = 0\n",
        "    words_indices = {}\n",
        "    for keywords in lists_of_keywords:\n",
        "        for word in keywords:\n",
        "            if word not in words_indices:\n",
        "                words_indices[word] = i\n",
        "                i += 1\n",
        "                \n",
        "    return words_indices\n",
        "\n",
        "\n",
        "def create_idf(lists_of_keywords):\n",
        "    count_dictionary = Counter()\n",
        "    for keywords in lists_of_keywords:\n",
        "        words = set(keywords)\n",
        "        for word in words:\n",
        "            count_dictionary[word] += 1\n",
        "\n",
        "    idf = {}\n",
        "    for word, count in count_dictionary.items():\n",
        "        idf[word] = log(len(lists_of_keywords) / count)\n",
        "        # your code here\n",
        "    return idf\n",
        "\n",
        "\n",
        "def create_tf_idf(idf, lists_of_keywords, words_indices):\n",
        "    tf_idf = [[0] * len(idf) for i in range(len(lists_of_keywords))]\n",
        "    for n, sentence in enumerate(lists_of_keywords):\n",
        "        words_counter = Counter(sentence)\n",
        "        sentence_length = len(sentence)\n",
        "        for word in words_counter:\n",
        "            word_index = words_indices[word]\n",
        "            word_tf = words_counter[word] / sentence_length\n",
        "            word_tf_idf = word_tf * idf[word]\n",
        "\n",
        "            tf_idf[n][word_index] = word_tf_idf\n",
        "\n",
        "    return tf_idf"
      ]
    },
    {
      "cell_type": "code",
      "execution_count": 7,
      "id": "922ccd65",
      "metadata": {
        "id": "922ccd65"
      },
      "outputs": [],
      "source": [
        "# Читаем необработанный корпус, где 3 колонки\n",
        "df = pd.read_csv('/content/One_data_OK.csv', index_col='index', encoding='utf-32')"
      ]
    },
    {
      "cell_type": "code",
      "execution_count": 8,
      "id": "3e51a315",
      "metadata": {
        "id": "3e51a315"
      },
      "outputs": [],
      "source": [
        "# Создаём стоп слова и анализатор\n",
        "stops = stopwords.words('russian')\n",
        "morph = MorphAnalyzer()"
      ]
    },
    {
      "cell_type": "code",
      "execution_count": null,
      "id": "a97fd583",
      "metadata": {
        "id": "a97fd583"
      },
      "outputs": [],
      "source": [
        "# Создаём колонку с обработанным текстом\n",
        "df['lemmatized_text'] = df.text.apply(lemmatize)"
      ]
    },
    {
      "cell_type": "code",
      "execution_count": 10,
      "id": "728294a7",
      "metadata": {
        "id": "728294a7"
      },
      "outputs": [],
      "source": [
        "# Создаём векторизатор\n",
        "tfidf = TfidfVectorizer(\n",
        "    analyzer=\"word\", # анализировать по словам или по символам (char)\n",
        "        stop_words=stops, # передаём список стоп-слов для русского из NLTK\n",
        "    ngram_range=(1, 1)\n",
        ")"
      ]
    },
    {
      "cell_type": "code",
      "execution_count": 11,
      "id": "b85345c2",
      "metadata": {
        "id": "b85345c2"
      },
      "outputs": [],
      "source": [
        "articles_tfidf = tfidf.fit_transform(df['lemmatized_text'])"
      ]
    },
    {
      "cell_type": "code",
      "execution_count": 12,
      "id": "049d7f85",
      "metadata": {
        "id": "049d7f85"
      },
      "outputs": [],
      "source": [
        "feature_names = np.array(tfidf.get_feature_names_out())\n",
        "feature_words = []\n",
        "for i, article in enumerate(df.lemmatized_text):\n",
        "    article_vector = articles_tfidf[i, :]\n",
        "    words = get_top_tf_idf_words(article_vector, feature_names, 5)\n",
        "\n"
      ]
    },
    {
      "cell_type": "code",
      "execution_count": 13,
      "id": "6bd3e40f",
      "metadata": {
        "id": "6bd3e40f"
      },
      "outputs": [],
      "source": [
        "# Создаём колонку с ключевыми словами\n",
        "df['keywords'] = df.apply(add_best_words, axis=1)"
      ]
    },
    {
      "cell_type": "code",
      "execution_count": 14,
      "id": "3d3133ad",
      "metadata": {
        "id": "3d3133ad"
      },
      "outputs": [],
      "source": [
        "words_indices = enumerate_words(df.keywords)"
      ]
    },
    {
      "cell_type": "code",
      "source": [
        "df"
      ],
      "metadata": {
        "id": "eltFI6jMdEBS"
      },
      "id": "eltFI6jMdEBS",
      "execution_count": null,
      "outputs": []
    },
    {
      "cell_type": "code",
      "execution_count": 16,
      "id": "c9f0be23",
      "metadata": {
        "id": "c9f0be23"
      },
      "outputs": [],
      "source": [
        "words_indices = enumerate_words(df.keywords)\n",
        "idf = create_idf(df['keywords'])\n",
        "tf_idf = create_tf_idf(idf, df['keywords'], words_indices)\n",
        "\n",
        "# Создаём колонку с tf_idf векторами\n",
        "df['tf_idf'] = tf_idf"
      ]
    },
    {
      "cell_type": "code",
      "execution_count": 17,
      "id": "a46b4c5a",
      "metadata": {
        "id": "a46b4c5a"
      },
      "outputs": [],
      "source": [
        "# Сохранение словаря в файл\n",
        "with open('words_indices_OK.json', 'w') as f:\n",
        "    json.dump(words_indices, f)\n",
        "    \n"
      ]
    },
    {
      "cell_type": "code",
      "execution_count": 18,
      "id": "a492078e",
      "metadata": {
        "id": "a492078e"
      },
      "outputs": [],
      "source": [
        "# Сохранение словаря в файл\n",
        "with open('idf_data_OK.json', 'w') as f:\n",
        "    json.dump(idf, f)"
      ]
    },
    {
      "cell_type": "code",
      "execution_count": 19,
      "id": "1e4bfe9b",
      "metadata": {
        "id": "1e4bfe9b"
      },
      "outputs": [],
      "source": [
        "# Чтение соваря из файла\n",
        "with open('words_indices_OK.json', 'r') as f:\n",
        "    words_indices_loaded = json.load(f)\n"
      ]
    },
    {
      "cell_type": "code",
      "execution_count": 20,
      "id": "bbe36a43",
      "metadata": {
        "id": "bbe36a43"
      },
      "outputs": [],
      "source": [
        "df.to_csv('processed_data_OK.csv', index_label='index',encoding = 'utf-32')\n"
      ]
    },
    {
      "cell_type": "code",
      "execution_count": 29,
      "id": "c1e27ba3",
      "metadata": {
        "id": "c1e27ba3",
        "colab": {
          "base_uri": "https://localhost:8080/",
          "height": 1000
        },
        "outputId": "d14fd248-5883-4600-84c6-f33ef4797a16"
      },
      "outputs": [
        {
          "output_type": "execute_result",
          "data": {
            "text/plain": [
              "                                                    link  \\\n",
              "index                                                      \n",
              "0      https://shape.ru/radosti-zhizni/transformatsiy...   \n",
              "1      https://shape.ru/radosti-zhizni/transformatsiy...   \n",
              "2      https://shape.ru/radosti-zhizni/motivatsiya/50...   \n",
              "3      https://shape.ru/radosti-zhizni/transformatsiy...   \n",
              "4      https://shape.ru/radosti-zhizni/transformatsiy...   \n",
              "...                                                  ...   \n",
              "2009   https://psychologyjournal.ru/public/isteriches...   \n",
              "2010   https://psychologyjournal.ru/public/13-tyazhel...   \n",
              "2011   https://psychologyjournal.ru/public/resursno-o...   \n",
              "2012   https://psychologyjournal.ru/public/kak-pravil...   \n",
              "2013   https://psychologyjournal.ru/public/zhizn-solo...   \n",
              "\n",
              "                                                   title  \\\n",
              "index                                                      \n",
              "0                Как стать экспертом, которого все хотят   \n",
              "1      Если вы трудоголик: как отучить себя работать ...   \n",
              "2      Рай для двоих: 7 направлений для путешествия-с...   \n",
              "3      5 советов, которые помогут научиться достигать...   \n",
              "4               Что в жизни важнее — семья или карьера?    \n",
              "...                                                  ...   \n",
              "2009                  Истерическое расстройство личности   \n",
              "2010     13 \"тяжелых\" случаев, когда психолог не поможет   \n",
              "2011                                 Ресурсно о шизоидах   \n",
              "2012                   Как правильно критиковать. Мануал   \n",
              "2013       Жизнь соло: эксперимент или новая реальность?   \n",
              "\n",
              "                                                    text  \\\n",
              "index                                                      \n",
              "0      Даже если вы — вполне успешный профи, с прекра...   \n",
              "1      Многие люди выходят на работу в свой законный ...   \n",
              "2      Романтические путешествия сближают и помогают ...   \n",
              "3      Сколько раз мы сталкивались с тем, что хотели ...   \n",
              "4      Нужно ли женщине выбирать между семьей и карье...   \n",
              "...                                                  ...   \n",
              "2009   Автор: Дарья Варламова.\"Вся жизнь – театр, и л...   \n",
              "2010   Многие, записываясь к психологу, даже и не под...   \n",
              "2011   Это раньше я думала, что я странная, никем не ...   \n",
              "2012   Автор: Екатерина Сигитова, психотерапевт.Давно...   \n",
              "2013   Почему все большее количество людей выбирает о...   \n",
              "\n",
              "                                         lemmatized_text  \\\n",
              "index                                                      \n",
              "0      даже если вы вполне успешный профи с прекрасны...   \n",
              "1      многие человек выходить на работа в свой закон...   \n",
              "2      романтический путешествие сближать и помогать ...   \n",
              "3      сколько раз мы сталкиваться с тем что хотеть ч...   \n",
              "4      нужно ли женщина выбирать между семья и карьер...   \n",
              "...                                                  ...   \n",
              "2009   автор дарья варламов весь жизнь театр и челове...   \n",
              "2010   многие записываться к психолог даже и не подоз...   \n",
              "2011   это ранний я думать что я странный никто не по...   \n",
              "2012   автор екатерина сигитов психотерапевт давно на...   \n",
              "2013   почему всё больший количество человек выбирать...   \n",
              "\n",
              "                                                keywords  \\\n",
              "index                                                      \n",
              "0      [pr, репутация, its, коновалов, конкурент, бре...   \n",
              "1      [выходной, рабочий, отдых, законный, володин, ...   \n",
              "2      [пляж, сочи, бронировать, отель, остров, отпра...   \n",
              "3      [цель, самозванец, кузав, желаемый, ментор, ст...   \n",
              "4      [семья, карьера, женщина, совмещать, гармония,...   \n",
              "...                                                  ...   \n",
              "2009   [любовный, зависимость, любимый, любовь, челов...   \n",
              "2010   [пограничный, пограничник, клиент, пограничнос...   \n",
              "2011   [это, принятие, мочь, радикальный, готовность,...   \n",
              "2012   [психотерапия, биполярный, расстройство, повед...   \n",
              "2013   [ребёнок, родитель, взрослый, свой, мама, всё,...   \n",
              "\n",
              "                                                  tf_idf  \n",
              "index                                                     \n",
              "0      [0.6427701313882901, 0.6715383386334681, 0.712...  \n",
              "1      [0, 0, 0, 0, 0, 0, 0, 0, 0, 0, 0.5868085525947...  \n",
              "2      [0, 0, 0, 0, 0, 0, 0, 0, 0, 0, 0, 0, 0, 0, 0, ...  \n",
              "3      [0, 0, 0, 0, 0, 0, 0, 0, 0, 0, 0, 0, 0, 0, 0, ...  \n",
              "4      [0, 0, 0, 0, 0, 0, 0.6204557762568691, 0, 0, 0...  \n",
              "...                                                  ...  \n",
              "2009   [0, 0, 0, 0, 0, 0, 0, 0, 0, 0, 0, 0, 0, 0, 0, ...  \n",
              "2010   [0, 0, 0, 0, 0, 0, 0, 0, 0.3314186004672526, 0...  \n",
              "2011   [0, 0, 0, 0, 0, 0, 0, 0, 0, 0, 0, 0, 0, 0, 0, ...  \n",
              "2012   [0, 0, 0, 0, 0, 0, 0, 0, 0, 0, 0, 0, 0, 0, 0, ...  \n",
              "2013   [0, 0, 0, 0, 0, 0, 0, 0, 0, 0, 0, 0, 0, 0, 0, ...  \n",
              "\n",
              "[2475 rows x 6 columns]"
            ],
            "text/html": [
              "\n",
              "  <div id=\"df-f7bab63d-2b3f-40b0-a482-222b8416853e\">\n",
              "    <div class=\"colab-df-container\">\n",
              "      <div>\n",
              "<style scoped>\n",
              "    .dataframe tbody tr th:only-of-type {\n",
              "        vertical-align: middle;\n",
              "    }\n",
              "\n",
              "    .dataframe tbody tr th {\n",
              "        vertical-align: top;\n",
              "    }\n",
              "\n",
              "    .dataframe thead th {\n",
              "        text-align: right;\n",
              "    }\n",
              "</style>\n",
              "<table border=\"1\" class=\"dataframe\">\n",
              "  <thead>\n",
              "    <tr style=\"text-align: right;\">\n",
              "      <th></th>\n",
              "      <th>link</th>\n",
              "      <th>title</th>\n",
              "      <th>text</th>\n",
              "      <th>lemmatized_text</th>\n",
              "      <th>keywords</th>\n",
              "      <th>tf_idf</th>\n",
              "    </tr>\n",
              "    <tr>\n",
              "      <th>index</th>\n",
              "      <th></th>\n",
              "      <th></th>\n",
              "      <th></th>\n",
              "      <th></th>\n",
              "      <th></th>\n",
              "      <th></th>\n",
              "    </tr>\n",
              "  </thead>\n",
              "  <tbody>\n",
              "    <tr>\n",
              "      <th>0</th>\n",
              "      <td>https://shape.ru/radosti-zhizni/transformatsiy...</td>\n",
              "      <td>Как стать экспертом, которого все хотят</td>\n",
              "      <td>Даже если вы — вполне успешный профи, с прекра...</td>\n",
              "      <td>даже если вы вполне успешный профи с прекрасны...</td>\n",
              "      <td>[pr, репутация, its, коновалов, конкурент, бре...</td>\n",
              "      <td>[0.6427701313882901, 0.6715383386334681, 0.712...</td>\n",
              "    </tr>\n",
              "    <tr>\n",
              "      <th>1</th>\n",
              "      <td>https://shape.ru/radosti-zhizni/transformatsiy...</td>\n",
              "      <td>Если вы трудоголик: как отучить себя работать ...</td>\n",
              "      <td>Многие люди выходят на работу в свой законный ...</td>\n",
              "      <td>многие человек выходить на работа в свой закон...</td>\n",
              "      <td>[выходной, рабочий, отдых, законный, володин, ...</td>\n",
              "      <td>[0, 0, 0, 0, 0, 0, 0, 0, 0, 0, 0.5868085525947...</td>\n",
              "    </tr>\n",
              "    <tr>\n",
              "      <th>2</th>\n",
              "      <td>https://shape.ru/radosti-zhizni/motivatsiya/50...</td>\n",
              "      <td>Рай для двоих: 7 направлений для путешествия-с...</td>\n",
              "      <td>Романтические путешествия сближают и помогают ...</td>\n",
              "      <td>романтический путешествие сближать и помогать ...</td>\n",
              "      <td>[пляж, сочи, бронировать, отель, остров, отпра...</td>\n",
              "      <td>[0, 0, 0, 0, 0, 0, 0, 0, 0, 0, 0, 0, 0, 0, 0, ...</td>\n",
              "    </tr>\n",
              "    <tr>\n",
              "      <th>3</th>\n",
              "      <td>https://shape.ru/radosti-zhizni/transformatsiy...</td>\n",
              "      <td>5 советов, которые помогут научиться достигать...</td>\n",
              "      <td>Сколько раз мы сталкивались с тем, что хотели ...</td>\n",
              "      <td>сколько раз мы сталкиваться с тем что хотеть ч...</td>\n",
              "      <td>[цель, самозванец, кузав, желаемый, ментор, ст...</td>\n",
              "      <td>[0, 0, 0, 0, 0, 0, 0, 0, 0, 0, 0, 0, 0, 0, 0, ...</td>\n",
              "    </tr>\n",
              "    <tr>\n",
              "      <th>4</th>\n",
              "      <td>https://shape.ru/radosti-zhizni/transformatsiy...</td>\n",
              "      <td>Что в жизни важнее — семья или карьера?</td>\n",
              "      <td>Нужно ли женщине выбирать между семьей и карье...</td>\n",
              "      <td>нужно ли женщина выбирать между семья и карьер...</td>\n",
              "      <td>[семья, карьера, женщина, совмещать, гармония,...</td>\n",
              "      <td>[0, 0, 0, 0, 0, 0, 0.6204557762568691, 0, 0, 0...</td>\n",
              "    </tr>\n",
              "    <tr>\n",
              "      <th>...</th>\n",
              "      <td>...</td>\n",
              "      <td>...</td>\n",
              "      <td>...</td>\n",
              "      <td>...</td>\n",
              "      <td>...</td>\n",
              "      <td>...</td>\n",
              "    </tr>\n",
              "    <tr>\n",
              "      <th>2009</th>\n",
              "      <td>https://psychologyjournal.ru/public/isteriches...</td>\n",
              "      <td>Истерическое расстройство личности</td>\n",
              "      <td>Автор: Дарья Варламова.\"Вся жизнь – театр, и л...</td>\n",
              "      <td>автор дарья варламов весь жизнь театр и челове...</td>\n",
              "      <td>[любовный, зависимость, любимый, любовь, челов...</td>\n",
              "      <td>[0, 0, 0, 0, 0, 0, 0, 0, 0, 0, 0, 0, 0, 0, 0, ...</td>\n",
              "    </tr>\n",
              "    <tr>\n",
              "      <th>2010</th>\n",
              "      <td>https://psychologyjournal.ru/public/13-tyazhel...</td>\n",
              "      <td>13 \"тяжелых\" случаев, когда психолог не поможет</td>\n",
              "      <td>Многие, записываясь к психологу, даже и не под...</td>\n",
              "      <td>многие записываться к психолог даже и не подоз...</td>\n",
              "      <td>[пограничный, пограничник, клиент, пограничнос...</td>\n",
              "      <td>[0, 0, 0, 0, 0, 0, 0, 0, 0.3314186004672526, 0...</td>\n",
              "    </tr>\n",
              "    <tr>\n",
              "      <th>2011</th>\n",
              "      <td>https://psychologyjournal.ru/public/resursno-o...</td>\n",
              "      <td>Ресурсно о шизоидах</td>\n",
              "      <td>Это раньше я думала, что я странная, никем не ...</td>\n",
              "      <td>это ранний я думать что я странный никто не по...</td>\n",
              "      <td>[это, принятие, мочь, радикальный, готовность,...</td>\n",
              "      <td>[0, 0, 0, 0, 0, 0, 0, 0, 0, 0, 0, 0, 0, 0, 0, ...</td>\n",
              "    </tr>\n",
              "    <tr>\n",
              "      <th>2012</th>\n",
              "      <td>https://psychologyjournal.ru/public/kak-pravil...</td>\n",
              "      <td>Как правильно критиковать. Мануал</td>\n",
              "      <td>Автор: Екатерина Сигитова, психотерапевт.Давно...</td>\n",
              "      <td>автор екатерина сигитов психотерапевт давно на...</td>\n",
              "      <td>[психотерапия, биполярный, расстройство, повед...</td>\n",
              "      <td>[0, 0, 0, 0, 0, 0, 0, 0, 0, 0, 0, 0, 0, 0, 0, ...</td>\n",
              "    </tr>\n",
              "    <tr>\n",
              "      <th>2013</th>\n",
              "      <td>https://psychologyjournal.ru/public/zhizn-solo...</td>\n",
              "      <td>Жизнь соло: эксперимент или новая реальность?</td>\n",
              "      <td>Почему все большее количество людей выбирает о...</td>\n",
              "      <td>почему всё больший количество человек выбирать...</td>\n",
              "      <td>[ребёнок, родитель, взрослый, свой, мама, всё,...</td>\n",
              "      <td>[0, 0, 0, 0, 0, 0, 0, 0, 0, 0, 0, 0, 0, 0, 0, ...</td>\n",
              "    </tr>\n",
              "  </tbody>\n",
              "</table>\n",
              "<p>2475 rows × 6 columns</p>\n",
              "</div>\n",
              "      <button class=\"colab-df-convert\" onclick=\"convertToInteractive('df-f7bab63d-2b3f-40b0-a482-222b8416853e')\"\n",
              "              title=\"Convert this dataframe to an interactive table.\"\n",
              "              style=\"display:none;\">\n",
              "        \n",
              "  <svg xmlns=\"http://www.w3.org/2000/svg\" height=\"24px\"viewBox=\"0 0 24 24\"\n",
              "       width=\"24px\">\n",
              "    <path d=\"M0 0h24v24H0V0z\" fill=\"none\"/>\n",
              "    <path d=\"M18.56 5.44l.94 2.06.94-2.06 2.06-.94-2.06-.94-.94-2.06-.94 2.06-2.06.94zm-11 1L8.5 8.5l.94-2.06 2.06-.94-2.06-.94L8.5 2.5l-.94 2.06-2.06.94zm10 10l.94 2.06.94-2.06 2.06-.94-2.06-.94-.94-2.06-.94 2.06-2.06.94z\"/><path d=\"M17.41 7.96l-1.37-1.37c-.4-.4-.92-.59-1.43-.59-.52 0-1.04.2-1.43.59L10.3 9.45l-7.72 7.72c-.78.78-.78 2.05 0 2.83L4 21.41c.39.39.9.59 1.41.59.51 0 1.02-.2 1.41-.59l7.78-7.78 2.81-2.81c.8-.78.8-2.07 0-2.86zM5.41 20L4 18.59l7.72-7.72 1.47 1.35L5.41 20z\"/>\n",
              "  </svg>\n",
              "      </button>\n",
              "      \n",
              "  <style>\n",
              "    .colab-df-container {\n",
              "      display:flex;\n",
              "      flex-wrap:wrap;\n",
              "      gap: 12px;\n",
              "    }\n",
              "\n",
              "    .colab-df-convert {\n",
              "      background-color: #E8F0FE;\n",
              "      border: none;\n",
              "      border-radius: 50%;\n",
              "      cursor: pointer;\n",
              "      display: none;\n",
              "      fill: #1967D2;\n",
              "      height: 32px;\n",
              "      padding: 0 0 0 0;\n",
              "      width: 32px;\n",
              "    }\n",
              "\n",
              "    .colab-df-convert:hover {\n",
              "      background-color: #E2EBFA;\n",
              "      box-shadow: 0px 1px 2px rgba(60, 64, 67, 0.3), 0px 1px 3px 1px rgba(60, 64, 67, 0.15);\n",
              "      fill: #174EA6;\n",
              "    }\n",
              "\n",
              "    [theme=dark] .colab-df-convert {\n",
              "      background-color: #3B4455;\n",
              "      fill: #D2E3FC;\n",
              "    }\n",
              "\n",
              "    [theme=dark] .colab-df-convert:hover {\n",
              "      background-color: #434B5C;\n",
              "      box-shadow: 0px 1px 3px 1px rgba(0, 0, 0, 0.15);\n",
              "      filter: drop-shadow(0px 1px 2px rgba(0, 0, 0, 0.3));\n",
              "      fill: #FFFFFF;\n",
              "    }\n",
              "  </style>\n",
              "\n",
              "      <script>\n",
              "        const buttonEl =\n",
              "          document.querySelector('#df-f7bab63d-2b3f-40b0-a482-222b8416853e button.colab-df-convert');\n",
              "        buttonEl.style.display =\n",
              "          google.colab.kernel.accessAllowed ? 'block' : 'none';\n",
              "\n",
              "        async function convertToInteractive(key) {\n",
              "          const element = document.querySelector('#df-f7bab63d-2b3f-40b0-a482-222b8416853e');\n",
              "          const dataTable =\n",
              "            await google.colab.kernel.invokeFunction('convertToInteractive',\n",
              "                                                     [key], {});\n",
              "          if (!dataTable) return;\n",
              "\n",
              "          const docLinkHtml = 'Like what you see? Visit the ' +\n",
              "            '<a target=\"_blank\" href=https://colab.research.google.com/notebooks/data_table.ipynb>data table notebook</a>'\n",
              "            + ' to learn more about interactive tables.';\n",
              "          element.innerHTML = '';\n",
              "          dataTable['output_type'] = 'display_data';\n",
              "          await google.colab.output.renderOutput(dataTable, element);\n",
              "          const docLink = document.createElement('div');\n",
              "          docLink.innerHTML = docLinkHtml;\n",
              "          element.appendChild(docLink);\n",
              "        }\n",
              "      </script>\n",
              "    </div>\n",
              "  </div>\n",
              "  "
            ]
          },
          "metadata": {},
          "execution_count": 29
        }
      ],
      "source": [
        "df\n"
      ]
    }
  ],
  "metadata": {
    "kernelspec": {
      "display_name": "Python 3 (ipykernel)",
      "language": "python",
      "name": "python3"
    },
    "language_info": {
      "codemirror_mode": {
        "name": "ipython",
        "version": 3
      },
      "file_extension": ".py",
      "mimetype": "text/x-python",
      "name": "python",
      "nbconvert_exporter": "python",
      "pygments_lexer": "ipython3",
      "version": "3.11.1"
    },
    "colab": {
      "provenance": []
    }
  },
  "nbformat": 4,
  "nbformat_minor": 5
}