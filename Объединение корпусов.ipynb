{
 "cells": [
  {
   "cell_type": "code",
   "execution_count": 1,
   "id": "a47df3d5",
   "metadata": {},
   "outputs": [],
   "source": [
    "import pandas as pd\n",
    "import glob"
   ]
  },
  {
   "cell_type": "code",
   "execution_count": 5,
   "id": "4c892121",
   "metadata": {},
   "outputs": [],
   "source": [
    "files = glob.glob('*.csv')"
   ]
  },
  {
   "cell_type": "code",
   "execution_count": 6,
   "id": "9062b770",
   "metadata": {},
   "outputs": [],
   "source": [
    "combined = pd.DataFrame()\n",
    "\n",
    "for file in files:\n",
    "    data = pd.read_csv(file)\n",
    "    data['processed_data2.csv'] = file\n",
    "    combined = pd.concat([combined, data])"
   ]
  },
  {
   "cell_type": "code",
   "execution_count": 8,
   "id": "55bae0b3",
   "metadata": {},
   "outputs": [
    {
     "name": "stdout",
     "output_type": "stream",
     "text": [
      "      Unnamed: 0                                               link  \\\n",
      "0              0  https://psychojournal.ru/article/2385-kak-rasp...   \n",
      "1              1  https://psychojournal.ru/article/2377-10-asser...   \n",
      "2              2  https://psychojournal.ru/article/2374-16-krite...   \n",
      "3              3  https://psychojournal.ru/article/2367-jerih-fr...   \n",
      "4              4  https://psychojournal.ru/article/2354-top-5-po...   \n",
      "...          ...                                                ...   \n",
      "2009        2009  https://psychologyjournal.ru/public/isteriches...   \n",
      "2010        2010  https://psychologyjournal.ru/public/13-tyazhel...   \n",
      "2011        2011  https://psychologyjournal.ru/public/resursno-o...   \n",
      "2012        2012  https://psychologyjournal.ru/public/kak-pravil...   \n",
      "2013        2013  https://psychologyjournal.ru/public/zhizn-solo...   \n",
      "\n",
      "                                                  title  \\\n",
      "0     Как распознать ядовитые отношения? Восемь приз...   \n",
      "1     Как распознать ядовитые отношения? Восемь приз...   \n",
      "2     Как распознать ядовитые отношения? Восемь приз...   \n",
      "3     Как распознать ядовитые отношения? Восемь приз...   \n",
      "4     Как распознать ядовитые отношения? Восемь приз...   \n",
      "...                                                 ...   \n",
      "2009                 Истерическое расстройство личности   \n",
      "2010    13 \"тяжелых\" случаев, когда психолог не поможет   \n",
      "2011                                Ресурсно о шизоидах   \n",
      "2012                  Как правильно критиковать. Мануал   \n",
      "2013      Жизнь соло: эксперимент или новая реальность?   \n",
      "\n",
      "                                                   text  \\\n",
      "0     Как определить ядовитые отношения? Психологи в...   \n",
      "1     Американские психологи разработали модель так ...   \n",
      "2     Что значит быть психически здоровым человеком ...   \n",
      "3     Самым важным для понимания характера и тайной ...   \n",
      "4     Критериями для составления рейтинга сообществ ...   \n",
      "...                                                 ...   \n",
      "2009  Автор: Дарья Варламова.\"Вся жизнь – театр, и л...   \n",
      "2010  Многие, записываясь к психологу, даже и не под...   \n",
      "2011  Это раньше я думала, что я странная, никем не ...   \n",
      "2012  Автор: Екатерина Сигитова, психотерапевт.Давно...   \n",
      "2013  Почему все большее количество людей выбирает о...   \n",
      "\n",
      "                        processed_data2.csv  \n",
      "0            Корпус psychologiesjournal.csv  \n",
      "1            Корпус psychologiesjournal.csv  \n",
      "2            Корпус psychologiesjournal.csv  \n",
      "3            Корпус psychologiesjournal.csv  \n",
      "4            Корпус psychologiesjournal.csv  \n",
      "...                                     ...  \n",
      "2009  Корпус Вестник психологии 2003 ст.csv  \n",
      "2010  Корпус Вестник психологии 2003 ст.csv  \n",
      "2011  Корпус Вестник психологии 2003 ст.csv  \n",
      "2012  Корпус Вестник психологии 2003 ст.csv  \n",
      "2013  Корпус Вестник психологии 2003 ст.csv  \n",
      "\n",
      "[2487 rows x 5 columns]\n"
     ]
    }
   ],
   "source": [
    "print(combined)"
   ]
  },
  {
   "cell_type": "code",
   "execution_count": 9,
   "id": "0f12c70a",
   "metadata": {},
   "outputs": [],
   "source": [
    "combined.to_csv('One_data.csv')"
   ]
  },
  {
   "cell_type": "code",
   "execution_count": null,
   "id": "c69dc7ea",
   "metadata": {},
   "outputs": [],
   "source": []
  }
 ],
 "metadata": {
  "kernelspec": {
   "display_name": "Python 3 (ipykernel)",
   "language": "python",
   "name": "python3"
  },
  "language_info": {
   "codemirror_mode": {
    "name": "ipython",
    "version": 3
   },
   "file_extension": ".py",
   "mimetype": "text/x-python",
   "name": "python",
   "nbconvert_exporter": "python",
   "pygments_lexer": "ipython3",
   "version": "3.11.1"
  }
 },
 "nbformat": 4,
 "nbformat_minor": 5
}
