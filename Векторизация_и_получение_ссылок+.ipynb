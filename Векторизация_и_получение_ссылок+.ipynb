{
  "cells": [
    {
      "cell_type": "code",
      "execution_count": null,
      "id": "8c4fbc07",
      "metadata": {
        "id": "8c4fbc07"
      },
      "outputs": [],
      "source": [
        "import pandas as pd\n",
        "import os\n",
        "!pip install pymorphy2\n",
        "from pymorphy2 import MorphAnalyzer\n",
        "import nltk\n",
        "from nltk.tokenize import word_tokenize, wordpunct_tokenize\n",
        "from nltk import download\n",
        "from nltk.corpus import stopwords\n",
        "\n",
        "import sklearn\n",
        "import numpy as np\n",
        "\n",
        "from math import log\n",
        "from collections import Counter\n",
        "\n",
        "import json\n",
        "\n",
        "from scipy.spatial.distance import cosine\n",
        "\n",
        "\n",
        "from help_funcs import lemmatize, tfidf_vectorizer, create_tf_idf\n"
      ]
    },
    {
      "cell_type": "code",
      "execution_count": null,
      "id": "73d18abc",
      "metadata": {
        "id": "73d18abc"
      },
      "outputs": [],
      "source": [
        "# подгружаем датафрейм\n",
        "df = pd.read_csv('processed_data_OK.csv', index_col='index')"
      ]
    },
    {
      "cell_type": "code",
      "execution_count": null,
      "id": "c2c76899",
      "metadata": {
        "id": "c2c76899"
      },
      "outputs": [],
      "source": [
        "# подгружаем словарь с пронумерованными словами\n",
        "with open('words_indices_OK.json', 'r') as f:\n",
        "    words_indices = json.load(f)"
      ]
    },
    {
      "cell_type": "code",
      "execution_count": null,
      "id": "c7fc6150",
      "metadata": {
        "id": "c7fc6150"
      },
      "outputs": [],
      "source": [
        "# подгружаем словарь idf\n",
        "with open('idf_data_OK.json', 'r') as f:\n",
        "    idf = json.load(f)"
      ]
    },
    {
      "cell_type": "code",
      "execution_count": null,
      "id": "14f8139b",
      "metadata": {
        "id": "14f8139b"
      },
      "outputs": [],
      "source": [
        "user_text = 'самооценка'"
      ]
    },
    {
      "cell_type": "code",
      "execution_count": null,
      "id": "55060860",
      "metadata": {
        "id": "55060860",
        "outputId": "898886b7-7150-494d-e075-5279892ebae3"
      },
      "outputs": [
        {
          "data": {
            "text/plain": [
              "<1x1 sparse matrix of type '<class 'numpy.float64'>'\n",
              "\twith 1 stored elements in Compressed Sparse Row format>"
            ]
          },
          "execution_count": 21,
          "metadata": {},
          "output_type": "execute_result"
        }
      ],
      "source": [
        "text_tfidf = tfidf_vectorizer.fit_transform([user_text])\n",
        "text_tfidf"
      ]
    },
    {
      "cell_type": "code",
      "execution_count": null,
      "id": "89c4cf13",
      "metadata": {
        "id": "89c4cf13"
      },
      "outputs": [],
      "source": [
        "lemmatize_text = lemmatize(user_text).split()"
      ]
    },
    {
      "cell_type": "code",
      "execution_count": null,
      "id": "7d4aefe5",
      "metadata": {
        "id": "7d4aefe5"
      },
      "outputs": [],
      "source": [
        "good_words = []\n",
        "for word in lemmatize_text:\n",
        "    if word in idf:\n",
        "        good_words.append(word)"
      ]
    },
    {
      "cell_type": "code",
      "execution_count": null,
      "id": "58d956d0",
      "metadata": {
        "id": "58d956d0",
        "outputId": "f143a39a-3cdd-4eab-a3f9-b7d05ec5390c"
      },
      "outputs": [
        {
          "data": {
            "text/plain": [
              "['самооценка']"
            ]
          },
          "execution_count": 9,
          "metadata": {},
          "output_type": "execute_result"
        }
      ],
      "source": [
        "good_words"
      ]
    },
    {
      "cell_type": "code",
      "execution_count": null,
      "id": "b4d48bf4",
      "metadata": {
        "id": "b4d48bf4"
      },
      "outputs": [],
      "source": [
        "my_tf_idf = create_tf_idf(idf, [good_words], words_indices)[0]\n",
        "my_tf_idf"
      ]
    },
    {
      "cell_type": "code",
      "execution_count": null,
      "id": "cb2a1e39",
      "metadata": {
        "id": "cb2a1e39"
      },
      "outputs": [],
      "source": [
        "result = {}\n",
        "\n",
        "\n",
        "for i, row in df.iterrows():\n",
        "    tf_idf = row['tf_idf']\n",
        "    tf_idf = json.loads(tf_idf)\n",
        "    score = cosine(tf_idf, my_tf_idf)\n",
        "    result[i] = score\n",
        "\n",
        "\n",
        "\n"
      ]
    },
    {
      "cell_type": "code",
      "execution_count": null,
      "id": "db723d3d",
      "metadata": {
        "id": "db723d3d"
      },
      "outputs": [],
      "source": [
        "good_results = {}\n",
        "\n",
        "for i, score in result.items():\n",
        "    if score < 1:\n",
        "        good_results[i] = score\n",
        "        "
      ]
    },
    {
      "cell_type": "code",
      "execution_count": null,
      "id": "27b1568f",
      "metadata": {
        "id": "27b1568f"
      },
      "outputs": [],
      "source": [
        "data = list(good_results.items())\n",
        "data.sort(key=lambda x: x[1])"
      ]
    },
    {
      "cell_type": "code",
      "execution_count": null,
      "id": "319b68c9",
      "metadata": {
        "id": "319b68c9",
        "outputId": "62099d5c-3f2b-452b-e36d-c364be0fd40f"
      },
      "outputs": [
        {
          "data": {
            "text/plain": [
              "[(47, 0.6919317500395241),\n",
              " (159, 0.7013152515847139),\n",
              " (25, 0.7029835163286207),\n",
              " (168, 0.715084278645924)]"
            ]
          },
          "execution_count": 17,
          "metadata": {},
          "output_type": "execute_result"
        }
      ],
      "source": [
        "data"
      ]
    },
    {
      "cell_type": "code",
      "execution_count": null,
      "id": "65b26586",
      "metadata": {
        "id": "65b26586",
        "outputId": "251d7794-3599-4963-8574-5b1842551b9e"
      },
      "outputs": [
        {
          "data": {
            "text/plain": [
              "'https://shape.ru/radosti-zhizni/motivatsiya/367-kak-pobedit-sezonnyj-stress'"
            ]
          },
          "execution_count": 18,
          "metadata": {},
          "output_type": "execute_result"
        }
      ],
      "source": [
        "df.iloc[data[0][0]].link"
      ]
    },
    {
      "cell_type": "code",
      "execution_count": null,
      "id": "b9c7307f",
      "metadata": {
        "id": "b9c7307f",
        "outputId": "6b19914f-3234-4bde-e60a-d90408ce002d"
      },
      "outputs": [
        {
          "name": "stdout",
          "output_type": "stream",
          "text": [
            "Как победить сезонный стресс\n",
            "Ментальное здоровье: что это и как с ним работать\n",
            "5 признаков развитого финансового мышления \n",
            "Как справиться с низкой самооценкой и начать жить счастливо\n"
          ]
        }
      ],
      "source": [
        "urls = []\n",
        "for i, score in data:\n",
        "    urls.append(df.iloc[i].link)\n",
        "    print(df.iloc[i].title)\n",
        "    "
      ]
    },
    {
      "cell_type": "code",
      "execution_count": null,
      "id": "b9878a12",
      "metadata": {
        "id": "b9878a12",
        "outputId": "83b1f05d-42da-4cc2-b2eb-16cca55af3a4"
      },
      "outputs": [
        {
          "data": {
            "text/plain": [
              "['https://shape.ru/radosti-zhizni/motivatsiya/367-kak-pobedit-sezonnyj-stress',\n",
              " 'https://shape.ru/radosti-zhizni/transformatsiya/4283-mental-noe-zdorov-e-chto-eto-i-kak-s-nim-rabotat',\n",
              " 'https://shape.ru/radosti-zhizni/transformatsiya/4923-5-priznakov-razvitogo-finansovogo-myshleniya',\n",
              " 'https://shape.ru/radosti-zhizni/transformatsiya/4237-kak-spravit-sya-s-nizkoj-samootsenkoj-i-nachat-zhit-schastlivo']"
            ]
          },
          "execution_count": 20,
          "metadata": {},
          "output_type": "execute_result"
        }
      ],
      "source": [
        "urls"
      ]
    }
  ],
  "metadata": {
    "kernelspec": {
      "display_name": "Python 3 (ipykernel)",
      "language": "python",
      "name": "python3"
    },
    "language_info": {
      "codemirror_mode": {
        "name": "ipython",
        "version": 3
      },
      "file_extension": ".py",
      "mimetype": "text/x-python",
      "name": "python",
      "nbconvert_exporter": "python",
      "pygments_lexer": "ipython3",
      "version": "3.11.1"
    },
    "colab": {
      "provenance": []
    }
  },
  "nbformat": 4,
  "nbformat_minor": 5
}