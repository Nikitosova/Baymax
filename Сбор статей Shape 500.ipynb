{
  "nbformat": 4,
  "nbformat_minor": 0,
  "metadata": {
    "colab": {
      "provenance": []
    },
    "kernelspec": {
      "name": "python3",
      "display_name": "Python 3"
    },
    "language_info": {
      "name": "python"
    }
  },
  "cells": [
    {
      "cell_type": "code",
      "execution_count": 7,
      "metadata": {
        "id": "lgk9fRBrqPyA"
      },
      "outputs": [],
      "source": [
        "import requests as rq\n",
        "from bs4 import BeautifulSoup\n",
        "import pandas as pd"
      ]
    },
    {
      "cell_type": "code",
      "source": [
        "def parse_page_with_articles(url): # собираем нужные ссылки на статьи\n",
        "    page = rq.get(url)\n",
        "    soup = BeautifulSoup(page.text, features=\"html.parser\")\n",
        "\n",
        "    urls = []\n",
        "\n",
        "    for link in soup.find_all('a'):\n",
        "        urls.append(link.get('href'))\n",
        "\n",
        "    releases = []\n",
        "\n",
        "    for link in soup.find_all('a'):\n",
        "        if 'radosti-zhizni' in link.get('href') and link.get('href') not in releases:\n",
        "            releases.append(link.get('href'))\n",
        "\n",
        "    realeases_links = []\n",
        "    page_links = []\n",
        "    black_list = ['/radosti-zhizni', '/radosti-zhizni/motivatsiya', '/radosti-zhizni/otnosheniya',\n",
        "                  '/radosti-zhizni/transformatsiya']\n",
        "    for link in releases:\n",
        "        if 'start' in link:\n",
        "            page_links.append('https://shape.ru' + link)\n",
        "        elif link not in black_list:\n",
        "            realeases_links.append('https://shape.ru' + link)\n",
        "\n",
        "    return realeases_links, page_links"
      ],
      "metadata": {
        "id": "xoA3-CF9y2O2"
      },
      "execution_count": 20,
      "outputs": []
    },
    {
      "cell_type": "code",
      "source": [
        "def GetArticle(url0):\n",
        "    page0 = rq.get(url0)\n",
        "    soup0 = BeautifulSoup(page0.text, features=\"html.parser\")\n",
        "    title = soup0.find_all('meta', {'property': 'og:title'})[0].attrs['content']\n",
        "    text = soup0.find_all('meta', {'property': 'og:description'})[0].attrs['content']\n",
        "\n",
        "    final_text = text.strip().replace('\\xa0', ' ')\n",
        "    return url0, title, final_text"
      ],
      "metadata": {
        "id": "IySRE8TMy4_E"
      },
      "execution_count": 9,
      "outputs": []
    },
    {
      "cell_type": "code",
      "source": [
        "# Парсим ссылки всех статей\n",
        "pages = ['https://shape.ru/radosti-zhizni']\n",
        "looked_pages = []\n",
        "all_articles_urls = []\n",
        "\n",
        "counter = 0\n",
        "\n",
        "while pages:  \n",
        "    page = pages.pop(0)  # Берем первую ссылку со статьями\n",
        "    \n",
        "    articles_urls, parsed_page_urls = parse_page_with_articles(page)\n",
        "    all_articles_urls.extend(articles_urls)\n",
        "\n",
        "    looked_pages.append(page)\n",
        "    for p_url in parsed_page_urls:\n",
        "        if p_url not in looked_pages and p_url not in pages:\n",
        "            pages.append(p_url)\n",
        "\n",
        "\n"
      ],
      "metadata": {
        "id": "tyzsmwJQy7R3"
      },
      "execution_count": 10,
      "outputs": []
    },
    {
      "cell_type": "code",
      "source": [
        "# Парсинг всех статей, взята только часть статетй с сайта, 500\n",
        "\n",
        "counter = 500\n",
        "articles = []\n",
        "for link in all_articles_urls:\n",
        "    new = GetArticle(link)\n",
        "    articles.append(new)\n",
        "    print(new)\n",
        "    counter += 1\n",
        "    if counter == 500:\n",
        "        break"
      ],
      "metadata": {
        "id": "ZTWbUsnTzE_x"
      },
      "execution_count": null,
      "outputs": []
    },
    {
      "cell_type": "code",
      "source": [
        "df = pd.DataFrame(articles)\n",
        "df.head()\n",
        "\n",
        "df.columns = ['link', 'title', 'text']\n",
        "print(df.head(12))\n",
        "\n",
        "df.to_excel('Корпус Shape.xlsx')\n"
      ],
      "metadata": {
        "colab": {
          "base_uri": "https://localhost:8080/"
        },
        "id": "23tI_Yx0zI3q",
        "outputId": "a8675afa-3e69-448c-952d-63ad92f29d10"
      },
      "execution_count": 19,
      "outputs": [
        {
          "output_type": "stream",
          "name": "stdout",
          "text": [
            "                                                 link  \\\n",
            "0   https://shape.ru/radosti-zhizni/transformatsiy...   \n",
            "1   https://shape.ru/radosti-zhizni/motivatsiya/50...   \n",
            "2   https://shape.ru/radosti-zhizni/transformatsiy...   \n",
            "3   https://shape.ru/radosti-zhizni/transformatsiy...   \n",
            "4   https://shape.ru/radosti-zhizni/transformatsiy...   \n",
            "5   https://shape.ru/radosti-zhizni/transformatsiy...   \n",
            "6   https://shape.ru/radosti-zhizni/transformatsiy...   \n",
            "7   https://shape.ru/radosti-zhizni/transformatsiy...   \n",
            "8   https://shape.ru/radosti-zhizni/motivatsiya/49...   \n",
            "9   https://shape.ru/radosti-zhizni/transformatsiy...   \n",
            "10  https://shape.ru/radosti-zhizni/transformatsiy...   \n",
            "11  https://shape.ru/radosti-zhizni/transformatsiy...   \n",
            "\n",
            "                                                title  \\\n",
            "0   Если вы трудоголик: как отучить себя работать ...   \n",
            "1   Рай для двоих: 7 направлений для путешествия-с...   \n",
            "2   5 советов, которые помогут научиться достигать...   \n",
            "3            Что в жизни важнее — семья или карьера?    \n",
            "4            Даосский прогноз на год Водяного Кролика   \n",
            "5   Минимализм: отказ от ненужных вещей, как отказ...   \n",
            "6                Почему вы плохо получаетесь на фото?   \n",
            "7            Как успешно похудеть, зная свой психотип   \n",
            "8   5 столичных премьер января, которые нельзя про...   \n",
            "9     Как загадывать желания так, чтобы они сбывались   \n",
            "10      Почему независимость не всегда путь к свободе   \n",
            "11     Прокрастинация: что мешает нам достигать цели?   \n",
            "\n",
            "                                                 text  \n",
            "0   Многие люди выходят на работу в свой законный ...  \n",
            "1   Романтические путешествия сближают и помогают ...  \n",
            "2   Сколько раз мы сталкивались с тем, что хотели ...  \n",
            "3   Нужно ли женщине выбирать между семьей и карье...  \n",
            "4   Как тот или иной знак влияет на реализацию тво...  \n",
            "5   Главной идеей минимализма является отказ от вс...  \n",
            "6   Искусство позирования многим из нас кажется не...  \n",
            "7   Оказывается успешный сброс веса — это не тольк...  \n",
            "8   Окончание новогодних каникул — не повод уйти с...  \n",
            "9   Чтобы желания сбылись, надо, во-первых, понима...  \n",
            "10  Спросили экспертов в области психического здор...  \n",
            "11  О чем нам сигнализирует прокрастинация? Правда...  \n"
          ]
        }
      ]
    }
  ]
}